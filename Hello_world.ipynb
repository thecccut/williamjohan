{
  "nbformat": 4,
  "nbformat_minor": 0,
  "metadata": {
    "colab": {
      "name": "Hello world.ipynb",
      "version": "0.3.2",
      "provenance": [],
      "include_colab_link": true
    },
    "kernelspec": {
      "name": "python3",
      "display_name": "Python 3"
    }
  },
  "cells": [
    {
      "cell_type": "markdown",
      "metadata": {
        "id": "view-in-github",
        "colab_type": "text"
      },
      "source": [
        "<a href=\"https://colab.research.google.com/github/thecccut/williamjohan/blob/master/Hello_world.ipynb\" target=\"_parent\"><img src=\"https://colab.research.google.com/assets/colab-badge.svg\" alt=\"Open In Colab\"/></a>"
      ]
    },
    {
      "metadata": {
        "id": "ssUKHl_m1iDu",
        "colab_type": "code",
        "outputId": "4e4f9207-3d9c-4515-bbfc-fb7892120c5d",
        "colab": {
          "base_uri": "https://localhost:8080/",
          "height": 34
        }
      },
      "cell_type": "code",
      "source": [
        "text = \"hello world\"\n",
        "print(text)"
      ],
      "execution_count": 0,
      "outputs": [
        {
          "output_type": "stream",
          "text": [
            "hello world\n"
          ],
          "name": "stdout"
        }
      ]
    },
    {
      "metadata": {
        "id": "gxZqXWep732V",
        "colab_type": "text"
      },
      "cell_type": "markdown",
      "source": [
        "Her er exempler paa de 5 grunlaegende regne metoder"
      ]
    },
    {
      "metadata": {
        "id": "BUqgPCWV8GNn",
        "colab_type": "code",
        "outputId": "8e3b32b4-fdfd-4ea6-b85e-df455da9e9fc",
        "colab": {
          "base_uri": "https://localhost:8080/",
          "height": 34
        }
      },
      "cell_type": "code",
      "source": [
        "a = 10\n",
        "b = 12\n",
        "print(a + b)"
      ],
      "execution_count": 0,
      "outputs": [
        {
          "output_type": "stream",
          "text": [
            "22\n"
          ],
          "name": "stdout"
        }
      ]
    },
    {
      "metadata": {
        "id": "dHRiFRNa8mkf",
        "colab_type": "code",
        "outputId": "64bdcc5d-5b16-42ee-bdec-12a0e06d12c8",
        "colab": {
          "base_uri": "https://localhost:8080/",
          "height": 34
        }
      },
      "cell_type": "code",
      "source": [
        "a = 10\n",
        "b = 12\n",
        "print(a + b)"
      ],
      "execution_count": 0,
      "outputs": [
        {
          "output_type": "stream",
          "text": [
            "22\n"
          ],
          "name": "stdout"
        }
      ]
    },
    {
      "metadata": {
        "id": "HPzWRuac8vB_",
        "colab_type": "code",
        "outputId": "ace38473-b09e-4dc2-b037-901f6334aca3",
        "colab": {
          "base_uri": "https://localhost:8080/",
          "height": 34
        }
      },
      "cell_type": "code",
      "source": [
        "a = 10\n",
        "b = 12\n",
        "print(a * b)"
      ],
      "execution_count": 0,
      "outputs": [
        {
          "output_type": "stream",
          "text": [
            "120\n"
          ],
          "name": "stdout"
        }
      ]
    },
    {
      "metadata": {
        "id": "x01bu_nQ81uS",
        "colab_type": "code",
        "outputId": "85f100e0-e0ff-4fbf-dc7d-a68562dfc0c7",
        "colab": {
          "base_uri": "https://localhost:8080/",
          "height": 34
        }
      },
      "cell_type": "code",
      "source": [
        "a = 10\n",
        "b = 12\n",
        "print(a / b)"
      ],
      "execution_count": 0,
      "outputs": [
        {
          "output_type": "stream",
          "text": [
            "0.8333333333333334\n"
          ],
          "name": "stdout"
        }
      ]
    },
    {
      "metadata": {
        "id": "fZIWwO7I9CC8",
        "colab_type": "code",
        "outputId": "f6a4caf7-2ed4-4056-f352-461453bf00ef",
        "colab": {
          "base_uri": "https://localhost:8080/",
          "height": 34
        }
      },
      "cell_type": "code",
      "source": [
        "a = 5\n",
        "b = 2\n",
        "print(a / b)"
      ],
      "execution_count": 0,
      "outputs": [
        {
          "output_type": "stream",
          "text": [
            "2.5\n"
          ],
          "name": "stdout"
        }
      ]
    },
    {
      "metadata": {
        "id": "oOgE1xoA9QU9",
        "colab_type": "code",
        "outputId": "b9acd9ac-9885-4391-994d-bf121ab267f7",
        "colab": {
          "base_uri": "https://localhost:8080/",
          "height": 34
        }
      },
      "cell_type": "code",
      "source": [
        "a = 23\n",
        "b = 12\n",
        "print(a % b)"
      ],
      "execution_count": 0,
      "outputs": [
        {
          "output_type": "stream",
          "text": [
            "11\n"
          ],
          "name": "stdout"
        }
      ]
    },
    {
      "metadata": {
        "id": "YHzzvWt6__u0",
        "colab_type": "code",
        "colab": {}
      },
      "cell_type": "code",
      "source": [
        ""
      ],
      "execution_count": 0,
      "outputs": []
    },
    {
      "metadata": {
        "id": "NdDdX_GhABfM",
        "colab_type": "text"
      },
      "cell_type": "markdown",
      "source": [
        "Det ovenover er modulus som er resten af tal efter man har divideret "
      ]
    },
    {
      "metadata": {
        "id": "VJApL_f0ARWa",
        "colab_type": "code",
        "outputId": "b52c73f2-6c9e-4dbb-fbd8-8654e5085694",
        "colab": {
          "base_uri": "https://localhost:8080/",
          "height": 34
        }
      },
      "cell_type": "code",
      "source": [
        "def isEven(x):\n",
        "  if (x % 2) == 0:\n",
        "    print(\"X er lige\")\n",
        "  else:\n",
        "    print(\"X er ulige.\")\n",
        "\n",
        "x = 0\n",
        "isEven(x)"
      ],
      "execution_count": 0,
      "outputs": [
        {
          "output_type": "stream",
          "text": [
            "X er lige\n"
          ],
          "name": "stdout"
        }
      ]
    },
    {
      "metadata": {
        "id": "jgLHAyexEhK1",
        "colab_type": "code",
        "outputId": "af8157e2-99c6-4d71-d7f0-e9451e46cc97",
        "colab": {
          "base_uri": "https://localhost:8080/",
          "height": 51
        }
      },
      "cell_type": "code",
      "source": [
        "def leapyear(year):\n",
        "  if (year % 4) == 0:\n",
        "    print('Is leap year')\n",
        "  else:\n",
        "    print(\"Er ikke skud leap year\")\n",
        "    \n",
        "leapyear(8)\n",
        "leapyear(1999)"
      ],
      "execution_count": 0,
      "outputs": [
        {
          "output_type": "stream",
          "text": [
            "Is leap year\n",
            "Er ikke skud leap year\n"
          ],
          "name": "stdout"
        }
      ]
    },
    {
      "metadata": {
        "id": "E-YSLhwAH1DG",
        "colab_type": "text"
      },
      "cell_type": "markdown",
      "source": [
        "Opgave til Johan:\n",
        "\n",
        "\n",
        "opgave 1:\n",
        "\n",
        "lav en funktion, som kvadrerer et tal (kvadrerer betyder at gange med sig selv)\n",
        "\n",
        "Opgave 2:\n",
        "Udvid funktion leapyear, saa at den kan foelgende:\n",
        "\n",
        "Hvis tallet er deleligt med 4 (giver 0 modulo 4) saa er det et skudaar - MEDMINDRE at tallet ogsaa er deleligt med 400\n",
        "ELLERS er det ikke et skudaar\n",
        "\n",
        "Hint: man kan putte if-statements ind i hinanden\n",
        "\n",
        "saa eksempelvis:\n",
        "\n",
        "leapyear(1996) skal returnere \"Er et leap year\"\n",
        "leapyear(1997) skal returnere \"Er ikke skud leap year\"\n",
        "leapyear(1998) skal returnere \"Er ikke skud leap year\"\n",
        "leapyear(1999) skal returnere \"Er ikke skud leap year\"\n",
        "leapyear(1998) skal returnere \"Er ikke skud leap year\" <- den nye ting\n",
        "\n",
        "opgave 3: \n",
        "opret en bruger paa https://www.khanacademy.org"
      ]
    },
    {
      "metadata": {
        "id": "99V1Kx6GI55P",
        "colab_type": "code",
        "colab": {}
      },
      "cell_type": "code",
      "source": [
        ""
      ],
      "execution_count": 0,
      "outputs": []
    },
    {
      "metadata": {
        "id": "7szCLPAKSK4k",
        "colab_type": "code",
        "colab": {}
      },
      "cell_type": "code",
      "source": [
        ""
      ],
      "execution_count": 0,
      "outputs": []
    },
    {
      "metadata": {
        "id": "paR40QInI99U",
        "colab_type": "code",
        "colab": {}
      },
      "cell_type": "code",
      "source": [
        ""
      ],
      "execution_count": 0,
      "outputs": []
    }
  ]
}